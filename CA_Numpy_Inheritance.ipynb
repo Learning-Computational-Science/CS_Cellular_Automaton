{
 "cells": [
  {
   "cell_type": "markdown",
   "metadata": {},
   "source": [
    "<center><h1>Testing and Documentation Notebook for Cellular Automaton Using Inheritance from NumPy NDArray</h1></center>\n",
    "This document is for testing/demonstrating a cellular automaton class, CAGrid, which inherits much of its functionality from [NumPy](http://www.numpy.org/) [array objects](https://docs.scipy.org/doc/numpy/reference/arrays.html).  The CAGrid class enables use of the array operations (implemented in C) which should make the execution speed better.  This document assumes the reader is somewhat familiar with NumPy.  It also assumes the user is somewhat familiar with classes and inheritance in Python.  If these concepts are not familiar, the following are good resources to consult.\n",
    "- Numpy has a [Quick Start Guide](https://docs.scipy.org/doc/numpy/user/quickstart.html).  Especially important to understanding this learning module are the concepts of [array views](https://docs.scipy.org/doc/numpy/user/quickstart.html#view-or-shallow-copy), [NumPy Data types (dtype)](https://docs.scipy.org/doc/numpy/reference/arrays.dtypes.html), and [NumPy structured arrays](https://docs.scipy.org/doc/numpy/user/basics.rec.html).\n",
    "- [Jessica Hamrick](http://www.jesshamrick.com/) has a great [Introduction to Classes and Inheritance (in Python)](http://www.jesshamrick.com/2011/05/18/an-introduction-to-classes-and-inheritance-in-python).  This is especially good for those who have not used object oriented programing before.\n",
    "- The Python Tutorial describes [classes](https://docs.python.org/3/tutorial/classes.html) in Python.  This includes [A First Look](https://docs.python.org/3/tutorial/classes.html#a-first-look-at-classes), a description of [Class and Instance Variables](https://docs.python.org/3/tutorial/classes.html#class-and-instance-variables), and a discussion of [Inheritance](https://docs.python.org/3/tutorial/classes.html#inheritance).\n",
    "\n",
    "Even for those familiar with NumPy arrays and Python classes/inheritance, the inheritance of NumPy arrays is rather unique.  The document [Subclassing ndarray](https://docs.scipy.org/doc/numpy/user/basics.subclassing.html) should be consulted to understand the inheritance of NumPy.ndarray to form the class CAGrid used in this notebook.\n",
    "\n",
    "# Results\n",
    "The video below is a game of life simulation using the code in this module.\n",
    "<video controls autoplay loop src=\"GOL_Large_Sim.mp4\" />"
   ]
  },
  {
   "cell_type": "markdown",
   "metadata": {},
   "source": [
    "# Initialization"
   ]
  },
  {
   "cell_type": "code",
   "execution_count": 1,
   "metadata": {
    "collapsed": false,
    "scrolled": true
   },
   "outputs": [
    {
     "data": {
      "image/png": "[encoded data removed]",
      "text/plain": [
       "<matplotlib.figure.Figure at 0x7c40198>"
      ]
     },
     "metadata": {},
     "output_type": "display_data"
    }
   ],
   "source": [
    "from CellularAutomaton import *\n",
    "from IPython.display import display\n",
    "import inspect\n",
    "from math import *\n",
    "\n",
    "#for plotting in this notebook.\n",
    "%matplotlib inline\n",
    "import matplotlib\n",
    "from matplotlib import pyplot as plt\n",
    "from matplotlib import animation\n",
    "matplotlib.rc('animation', html='html5')\n",
    "matplotlib.rcParams['image.cmap'] = 'jet'   #Set matshow colors to v 1.0 style\n",
    "#set the plot aspect ratio and setup a default figure to use.\n",
    "goldenratio=1/2*(1+sqrt(5)); fsx=7; fsy=fsx/goldenratio\n",
    "MyFigure, MyAxes = plt.subplots(1,1,figsize=(fsx,fsy));\n",
    "\n",
    "#Function to return the function name, parameters and doc string.\n",
    "def InfoDocString(function):\n",
    "    \"\"\"Function to return function definition and document string.\"\"\"\n",
    "    \n",
    "    code = inspect.getsource(function)\n",
    "    docstring = inspect.getdoc(function)\n",
    "    return code[0:code.find(':')+1].lstrip() +'\\n' + docstring"
   ]
  },
  {
   "cell_type": "markdown",
   "metadata": {},
   "source": [
    "### Functions to help with testing"
   ]
  },
  {
   "cell_type": "code",
   "execution_count": 2,
   "metadata": {
    "collapsed": false,
    "scrolled": false
   },
   "outputs": [],
   "source": [
    "MyDtype = numpy.dtype([('Value','f'),('State',bool)])\n",
    "\n",
    "def setstates(grid, rows, columns, states):\n",
    "    i=0\n",
    "    for y in range(rows):\n",
    "        for x in range(columns):\n",
    "            grid[\"State\"][y][x]=states[i]\n",
    "            i = i + 1\n",
    "    grid.SetValue()\n",
    "    grid.SetBoundary()"
   ]
  },
  {
   "cell_type": "code",
   "execution_count": 3,
   "metadata": {
    "collapsed": false
   },
   "outputs": [],
   "source": [
    "def setrandomstate(grid,ProbTrue):\n",
    "    a=numpy.random.randint(0,100,grid.shape,dtype='i8')\n",
    "    numpy.copyto(grid[\"State\"],ProbTrue>a)"
   ]
  },
  {
   "cell_type": "markdown",
   "metadata": {},
   "source": [
    "# Background\n",
    "This document introduces cellular automaton calculations.  It demonstrates how cellular automaton calculations could be performed using a class which inherits NumPy arrays.  This class implements rules for the [Game of Life](http://web.stanford.edu/~cdebs/GameOfLife/).  This class may be used for other cellular automaton simulations by either inheriting this class and changing the update rules or by editing the update function in [the CAGrid code](CellularAutomaton.py) directly.\n",
    "## Game of Life Update Rules\n",
    "In the game of life, the cellular automaton grid is a 2D grid in which each cell is either 'alive' or 'dead.'  The cellular automaton progresses through time by updating each cell's state based on the state of its neighbor cells in the previous time step.  The game of life treats diagonal cells as neighbors so there are eight nearest neighbors.  Let $Count=\\sum\\limits_{Neighbors}State_{n-1},$ each cell's value at the 'n' time step is then:\n",
    "- $State_n\\:=\\:False\\:if\\:Count>3$ (Too much competition, cell dies)\n",
    "\n",
    "- $State_n\\:=\\:True\\:if\\:Count=3$ (Cell birth or cell stays Alive)\n",
    "\n",
    "- $State_n\\:=\\:False\\:if\\:Count<2$ (Not enough neighbors, cells dies or stays dead)\n",
    "\n",
    "- $State_n\\:=\\:Unchanged\\:if\\:Count=2$\n",
    "\n",
    "Note that the rule for $Count=2$ needs no code to implement.  The cell state can be just left unchanged from the $n-1$ state.\n",
    "# CAGrid Class Structure\n",
    "The class CAGrid (or cellular automaton grid) inherits a NumPy ndarry and adds extra functionality to specialize the array for cellular automaton simulations.  In this implementation, each cell element is an array location.  The class also creates arrays for the neighbors in each direction.  In addition to the structure and functionality provided by NumPy arrays, the array structure should allow faster simulation calculations as array operations can be executed in C using [BLAS](http://www.netlib.org/blas/) subroutines rather than interpreted Python code.  The class doc string, shown below, describes the class."
   ]
  },
  {
   "cell_type": "code",
   "execution_count": 5,
   "metadata": {
    "collapsed": false,
    "scrolled": false
   },
   "outputs": [
    {
     "name": "stdout",
     "output_type": "stream",
     "text": [
      "class CAGrid(numpy.ndarray):\n",
      "Class for implementing cellular automaton grid simulations.\n",
      "\n",
      "Provides a framework for implementing 2D cellular automaton (CA) simulations using NumPy arrays.\n",
      "Each instance of the class has a NumPy array for the cell data.  The class automatically creates\n",
      "boundary cells surrounding the simulation grid.  It also creates views into the simulation grid,\n",
      "boundary cells, and neighbor cells for use with NumPy array calculation calls.\n",
      "\n",
      "Since this class inherits numpy.ndarray, several unique approaches must be used (especially for\n",
      "class instance creation.)  The document at\n",
      "https://docs.scipy.org/doc/numpy/user/basics.subclassing.html explains using ndarray as a\n",
      "subclass and these special approaches.\n",
      "\n",
      "Also important is the concept of an array view.  A view to an array does not use new data in\n",
      "memory, but simply 'views' the data which already exists.  This is explained some at\n",
      "https://docs.scipy.org/doc/numpy-dev/user/quickstart.html#copies-and-views\n",
      "Because of this efficiency, this class creates many views into the grid.  These views can be\n",
      "used later for efficient calculation through NumPy calls rather than iterating over items\n",
      "through interpreted python code.\n",
      "\n",
      "Class methods and attributes Inherited:\n",
      "All the instance variables associated with Numpy ndarray such as .shape, .dtype\n",
      "A complete list of ndarray methods and attributes is available at\n",
      "https://docs.scipy.org/doc/numpy-1.10.1/reference/generated/numpy.ndarray.html#numpy.ndarray\n",
      "\n",
      "\n",
      "The new class methods are:\n",
      "__new__ -> class initialization method.\n",
      "            The array (or grid) shape must be provided.  The constructor will not take data.\n",
      "            It creates an array 2 cells (or nodes) larger (in each direction) than the shape\n",
      "            argument passed.  This allows for boundary cells in each direction.  The\n",
      "            constructor returns a NumPy array for the main simulation data. This is actually\n",
      "            a view into the data of the bigger array which also contains boundary cells.\n",
      "            The bigger array is available through .Base or .base. The constructor also\n",
      "            creates view arrays for the neighbors to the top, top right, left, bottom left ...\n",
      "\n",
      "__array_finalize_ ->  Always called after initialization.  It does not currently do anything.\n",
      "\n",
      "__init__ -> Not used since it is not always called for subclasses of ndarray.\n",
      "\n",
      "Update ->   Implements the rules of the cellular automaton\n",
      "            Currently implements a simulation using 'game of life rules.'\n",
      "            To implement other cellular automaton simulations, either:\n",
      "                1.) Change the code in this file (especially Update)\n",
      "                2.) Create a new class which inherits this class with\n",
      "                    class NewClass(CAGrid):\n",
      "                    and include in that class an update function which will replace the\n",
      "                    one here.\n",
      "\n",
      "FinishUpdate -> Completes tasks after update\n",
      "                After cell values are updated, there are several tasks which must be completed\n",
      "                to prepare the CAGrid object for display and/or the next call to update.\n",
      "                Currently, this includes calling SetValue and SetBoundary.\n",
      "\n",
      "SetValue -> Sets the 'Value' field for the structured array.\n",
      "            This function is somewhat tied to the Game of Life Simulation.\n",
      "            The purpose of this function is do a fast conversion to float values as\n",
      "            expected by matplotlib.matshow.\n",
      "\n",
      "SetBoundary ->  Sets the boundary conditions by copying cells from main simulation grid\n",
      "                to the boundary cells.\n",
      "\n",
      "New Data Attributes or Instance Variables are:\n",
      ".Base or .base ->   The large array which includes the boundary cells.\n",
      "                    .base is the normal attribute for a NumPy array.\n",
      "                        The array returned by the constructor is actually a view into the larger\n",
      "                        array.  So NumPy automatically creates this reference.\n",
      "                    .Base is created in the constructor.  It is probably not needed.  It might be\n",
      "                        needed to keep the larger array in memory.\n",
      "\n",
      ".Neighbors[]  ->    List of arrays which are views which give the cell's neighbor in a direction.\n",
      "                    In other words, one of the neighbors is TopLeft.  Accessing TopLeft[3][4]\n",
      "                    returns the grid node at [2][3].\n",
      "                    Diagonal neighbor arrays are included in the list depending on the value of\n",
      "                    the class variable CAGrid.IncludeDiagonalNeighbors.  The default for this\n",
      "                    variable is True.\n",
      "\n",
      ".Old    ->          Attribute which has the same attributes as the CAGrid object.  .Old is for\n",
      "                    storing the old state of the object before update if necessary.\n",
      ".TrueArray  ->      Array of True values for use in mask/array operations.  It is the same size\n",
      "                    as the simulation grid, not the base grid.  Used for update calculations.\n",
      "                    Declaring .TrueArray makes the code run faster because memory is not created\n",
      "                    with each update.  Since it is an instance variable, it is created and\n",
      "                    initialized only once per simulation.\n",
      ".count      ->      Used by the game of life update to count number of alive neighbors.\n",
      ".UpdateCount    ->  Tracks the number of times Update is called.\n"
     ]
    }
   ],
   "source": [
    "print(InfoDocString(CAGrid))"
   ]
  },
  {
   "cell_type": "markdown",
   "metadata": {},
   "source": [
    "## Update Routine\n",
    "The Update method should be called each time step.  It updates the cell (array) values to the new values.  The complete code for the update function is below.  Note that rather than stepping through each value of the grid, Update determines the new values using calls to [numpy.place](https://docs.scipy.org/doc/numpy/reference/generated/numpy.place.html).  The numpy.place routine is mostly compiled code so it executes much faster than iterating through the cells using Python loops."
   ]
  },
  {
   "cell_type": "code",
   "execution_count": 6,
   "metadata": {
    "collapsed": false
   },
   "outputs": [
    {
     "name": "stdout",
     "output_type": "stream",
     "text": [
      "    def Update(self):\n",
      "        \"\"\"Implements a single time step using Game of Life Rules\n",
      "\n",
      "        Method currently takes no arguments.\n",
      "\n",
      "        Method sums the 'Value' of the neighbor cells and then applies the game of life rules.\n",
      "        Method uses array operations for calculations rather than iterators so that we take\n",
      "            full advantage of underlying C and BLAS routines rather than slower Python code.\n",
      "\n",
      "        Some of these routines are listed at:\n",
      "        https://docs.scipy.org/doc/numpy/reference/routines.indexing.html#inserting-data-into-arrays\n",
      "        In this method, numpy.place is used.  It is documented at:\n",
      "        https://docs.scipy.org/doc/numpy/reference/generated/numpy.place.html#numpy.place\n",
      "\n",
      "        Method also calls self.FinishUpdate\n",
      "        \"\"\"\n",
      "\n",
      "        # Determine number of neighbors\n",
      "        numpy.place(self.count,self.TrueArray,0)\n",
      "        for n in self.Neighbors:\n",
      "            self.count = self.count + n['Value']\n",
      "\n",
      "        # Implement Game of Life Rules\n",
      "        # Note:  Self.Old is actually not needed for Game of Life.\n",
      "        #       It might not be needed for other Update methods either.\n",
      "        # numpy.copyto(self.Old,self)                       # Default is no change for count = 2\n",
      "        numpy.place(self['State'], self.count >3, False)   # If count > 3: new value = False\n",
      "        numpy.place(self['State'], self.count ==3, True)   # If count = 3: new value = True\n",
      "        numpy.place(self['State'], self.count <2, False)   # If count < 2: new value = False\n",
      "        self.FinishUpdate()\n",
      "        self.UpdateCount += 1\n",
      "\n"
     ]
    }
   ],
   "source": [
    "print(inspect.getsource(CAGrid.Update))"
   ]
  },
  {
   "cell_type": "markdown",
   "metadata": {},
   "source": [
    "# Tests and Simulations\n",
    "In the cells below, we do some testing of the game of life rules and then run some large simulations demonstrating the game of life rules.  These tests give us confidence that our code operates as we expect.\n",
    "## Displaying Array Data\n",
    "Matplotlib has two function for displaying array data.  They are matshow and imshow.\n",
    "- [matshow](http://matplotlib.org/api/_as_gen/matplotlib.axes.Axes.matshow.html#matplotlib.axes.Axes.matshow) takes a single 2D numpy array.  It does automatic scaling so that the colormap range goes from the minimum to maximum value.\n",
    "\n",
    "- [imshow](http://matplotlib.org/api/_as_gen/matplotlib.axes.Axes.imshow.html#matplotlib.axes.Axes.imshow) is similar to matshow, but has a few more options.  Of primary importance is that we can pass an array of touples to specify the rgb or rgba color values.  This would allow us to specif the color at each grid location.\n",
    "\n",
    "For these game of life simulations, matshow will work well.  For more complicated cellular automaton in which each cell has a more complicated state, imshow might work better. \n",
    "## Test a 3 x 3 Checker Board\n",
    "The checker board pattern should be stable.  All cells have exactly three neighbors.\n",
    "\n",
    "First we create and show the grid."
   ]
  },
  {
   "cell_type": "code",
   "execution_count": 42,
   "metadata": {
    "collapsed": false,
    "scrolled": false
   },
   "outputs": [
    {
     "name": "stdout",
     "output_type": "stream",
     "text": [
      "[[False  True False]\n",
      " [ True False  True]\n",
      " [False  True False]]\n",
      "[[ 0.  1.  0.]\n",
      " [ 1.  0.  1.]\n",
      " [ 0.  1.  0.]]\n"
     ]
    }
   ],
   "source": [
    "rows = 3; columns = 3; MyGrid=CAGrid((rows,columns),MyDtype)\n",
    "setstates(MyGrid, rows, columns, (0,1,0,1,0,1,0,1,0))\n",
    "print(MyGrid['State']); print(MyGrid['Value'])"
   ]
  },
  {
   "cell_type": "code",
   "execution_count": 43,
   "metadata": {
    "collapsed": false,
    "scrolled": false
   },
   "outputs": [
    {
     "data": {
      "image/png": "[encoded data removed]",
      "text/plain": [
       "<matplotlib.figure.Figure at 0x8adb4e0>"
      ]
     },
     "execution_count": 43,
     "metadata": {},
     "output_type": "execute_result"
    }
   ],
   "source": [
    "MyAxes.matshow(MyGrid['Value']); MyFigure"
   ]
  },
  {
   "cell_type": "markdown",
   "metadata": {},
   "source": [
    "Now we update and show the grid."
   ]
  },
  {
   "cell_type": "code",
   "execution_count": 44,
   "metadata": {
    "collapsed": false,
    "scrolled": true
   },
   "outputs": [
    {
     "data": {
      "image/png": "[encoded data removed]",
      "text/plain": [
       "<matplotlib.figure.Figure at 0x8adb4e0>"
      ]
     },
     "execution_count": 44,
     "metadata": {},
     "output_type": "execute_result"
    }
   ],
   "source": [
    "MyGrid.Update(); MyAxes.matshow(MyGrid['Value']); MyFigure"
   ]
  },
  {
   "cell_type": "markdown",
   "metadata": {},
   "source": [
    "We will update and show the grid one more time.  The grid is in a steady state as it should as each 'alive' cell has exactly two neighbors that are also 'alive,' and each 'dead' neighbor is surrounded by four 'alive' neighbors so it always stays 'dead.'"
   ]
  },
  {
   "cell_type": "code",
   "execution_count": 45,
   "metadata": {
    "collapsed": false,
    "scrolled": false
   },
   "outputs": [
    {
     "name": "stdout",
     "output_type": "stream",
     "text": [
      "[[False  True False]\n",
      " [ True False  True]\n",
      " [False  True False]]\n",
      "[[ 0.  1.  0.]\n",
      " [ 1.  0.  1.]\n",
      " [ 0.  1.  0.]]\n"
     ]
    }
   ],
   "source": [
    "MyGrid.Update(); print(MyGrid['State']); print(MyGrid['Value'])"
   ]
  },
  {
   "cell_type": "markdown",
   "metadata": {},
   "source": [
    "<h2>Continuous Line</h2>\n",
    "<p>With periodic boundary conditions, a continuous line grows and then dies because of overpopulation.</p>"
   ]
  },
  {
   "cell_type": "code",
   "execution_count": 46,
   "metadata": {
    "collapsed": false,
    "scrolled": false
   },
   "outputs": [
    {
     "name": "stdout",
     "output_type": "stream",
     "text": [
      "[[ 0.  0.  0.]\n",
      " [ 1.  1.  1.]\n",
      " [ 0.  0.  0.]]\n"
     ]
    }
   ],
   "source": [
    "rows = 3; columns = 3; MyGrid=CAGrid((rows,columns),MyDtype)\n",
    "setstates(MyGrid, rows, columns, (0,0,0,1,1,1,0,0,0))\n",
    "print(MyGrid['Value'])"
   ]
  },
  {
   "cell_type": "code",
   "execution_count": 47,
   "metadata": {
    "collapsed": false,
    "scrolled": false
   },
   "outputs": [
    {
     "name": "stdout",
     "output_type": "stream",
     "text": [
      "[[ 1.  1.  1.]\n",
      " [ 1.  1.  1.]\n",
      " [ 1.  1.  1.]]\n"
     ]
    }
   ],
   "source": [
    "MyGrid.Update(); print(MyGrid['Value'])"
   ]
  },
  {
   "cell_type": "code",
   "execution_count": 48,
   "metadata": {
    "collapsed": false,
    "scrolled": false
   },
   "outputs": [
    {
     "name": "stdout",
     "output_type": "stream",
     "text": [
      "[[ 0.  0.  0.]\n",
      " [ 0.  0.  0.]\n",
      " [ 0.  0.  0.]]\n"
     ]
    }
   ],
   "source": [
    "MyGrid.Update(); print(MyGrid['Value'])"
   ]
  },
  {
   "cell_type": "markdown",
   "metadata": {},
   "source": [
    "<h2>Blinker</h2>\n",
    "<p>If we surround the line with empty cells, it is a <a href = http://web.stanford.edu/~cdebs/GameOfLife/ >blinker</a>.</p>"
   ]
  },
  {
   "cell_type": "code",
   "execution_count": 49,
   "metadata": {
    "collapsed": false,
    "scrolled": false
   },
   "outputs": [
    {
     "name": "stdout",
     "output_type": "stream",
     "text": [
      "[[ 0.  0.  0.  0.]\n",
      " [ 0.  1.  1.  1.]\n",
      " [ 0.  0.  0.  0.]\n",
      " [ 0.  0.  0.  0.]]\n"
     ]
    }
   ],
   "source": [
    "rows = 4; columns = 4; MyGrid=CAGrid((rows,columns),MyDtype);\n",
    "setstates(MyGrid, rows, columns, (0,0,0,0, 0,1,1,1, 0,0,0,0, 0,0,0,0));\n",
    "print(MyGrid['Value'])"
   ]
  },
  {
   "cell_type": "code",
   "execution_count": 50,
   "metadata": {
    "collapsed": false,
    "scrolled": false
   },
   "outputs": [
    {
     "name": "stdout",
     "output_type": "stream",
     "text": [
      "[[ 0.  0.  1.  0.]\n",
      " [ 0.  0.  1.  0.]\n",
      " [ 0.  0.  1.  0.]\n",
      " [ 0.  0.  0.  0.]]\n"
     ]
    }
   ],
   "source": [
    "MyGrid.Update(); print(MyGrid['Value'])"
   ]
  },
  {
   "cell_type": "code",
   "execution_count": 51,
   "metadata": {
    "collapsed": false,
    "scrolled": false
   },
   "outputs": [
    {
     "name": "stdout",
     "output_type": "stream",
     "text": [
      "[[ 0.  0.  0.  0.]\n",
      " [ 0.  1.  1.  1.]\n",
      " [ 0.  0.  0.  0.]\n",
      " [ 0.  0.  0.  0.]]\n"
     ]
    }
   ],
   "source": [
    "MyGrid.Update(); print(MyGrid['Value'])"
   ]
  },
  {
   "cell_type": "code",
   "execution_count": 52,
   "metadata": {
    "collapsed": false,
    "scrolled": false
   },
   "outputs": [
    {
     "name": "stdout",
     "output_type": "stream",
     "text": [
      "[[ 0.  0.  1.  0.]\n",
      " [ 0.  0.  1.  0.]\n",
      " [ 0.  0.  1.  0.]\n",
      " [ 0.  0.  0.  0.]]\n"
     ]
    }
   ],
   "source": [
    "MyGrid.Update(); print(MyGrid['Value'])"
   ]
  },
  {
   "cell_type": "markdown",
   "metadata": {},
   "source": [
    "## Small Grid Animation Test\n",
    "We will now run a small simulation to demonstrate this game of life simulation.  The final result of this test is an animation of the simulation.  Matplotlib has a built in [animation module](http://matplotlib.org/api/animation_api.html).  [This notebook](https://github.com/WillClaudeHolmes/Jupyter_Examples/blob/master/AnimationIllustration.ipynb) describes the necessary background as well well as gives several examples.\n",
    "\n",
    "The matplotlib [function animation method](http://matplotlib.org/api/_as_gen/matplotlib.animation.FuncAnimation.html#matplotlib.animation.FuncAnimation) requires a callable function which updates the figure.  This function must take one argument, the sequence number of the image being produced.  The `af(n)` function defined below is this function for this simulation.\n",
    "\n",
    "In the cells below, we will save the animation to an external file, and then include it in the notebook with the [html video tag](https://www.w3schools.com/tags/tag_video.asp)."
   ]
  },
  {
   "cell_type": "code",
   "execution_count": 18,
   "metadata": {
    "collapsed": false,
    "scrolled": true
   },
   "outputs": [],
   "source": [
    "def af(n):\n",
    "    MyGrid.Update()\n",
    "    MyAxes.matshow(MyGrid['Value'])"
   ]
  },
  {
   "cell_type": "code",
   "execution_count": 19,
   "metadata": {
    "collapsed": false,
    "scrolled": true
   },
   "outputs": [
    {
     "data": {
      "image/png": "[encoded data removed]",
      "text/plain": [
       "<matplotlib.figure.Figure at 0x7c40198>"
      ]
     },
     "execution_count": 19,
     "metadata": {},
     "output_type": "execute_result"
    }
   ],
   "source": [
    "rows = 25; columns = 50;\n",
    "MyGrid=CAGrid((rows,columns),MyDtype)  #initilized with whatever random memory was at the location.\n",
    "setrandomstate(MyGrid,38)              #set 38% (3/8) cells as 'alive.'  \n",
    "MyGrid.FinishUpdate()\n",
    "MyAxes.matshow(MyGrid['State'])\n",
    "MyFigure"
   ]
  },
  {
   "cell_type": "code",
   "execution_count": 20,
   "metadata": {
    "collapsed": false,
    "scrolled": false
   },
   "outputs": [
    {
     "name": "stdout",
     "output_type": "stream",
     "text": [
      "The animation will be 13.2 seconds long.\n"
     ]
    }
   ],
   "source": [
    "AnimationFrames = 400  #total number of frames in animation.\n",
    "DelayBetweenFrames = 33 #in msec (20 gives 50 fps) (33.3 gives 30 fps)\n",
    "AnimationTime = AnimationFrames * DelayBetweenFrames/1000\n",
    "print (\"The animation will be {:.1f} seconds long.\".format(AnimationTime))"
   ]
  },
  {
   "cell_type": "code",
   "execution_count": 22,
   "metadata": {
    "collapsed": false,
    "scrolled": true
   },
   "outputs": [],
   "source": [
    "MyAnimation = animation.FuncAnimation(MyFigure, af,\n",
    "                               frames=AnimationFrames, interval=DelayBetweenFrames, blit=False)\n",
    "MyAnimation.save('GOL_Small_Grid_test.mp4',extra_args=['-vcodec', 'h264'])"
   ]
  },
  {
   "cell_type": "markdown",
   "metadata": {},
   "source": [
    "<video controls autoplay loop src=\"GOL_Small_Grid_test.mp4\" />"
   ]
  },
  {
   "cell_type": "markdown",
   "metadata": {},
   "source": [
    "<h2>Glider Tests</h2>\n",
    "<p>A good test for the game of life simulation is if a <a href = http://web.stanford.edu/~cdebs/GameOfLife/ >glider</a> will act correctly.\n",
    "<h3>Small Grid Example</h3>"
   ]
  },
  {
   "cell_type": "code",
   "execution_count": 23,
   "metadata": {
    "collapsed": false,
    "scrolled": false
   },
   "outputs": [
    {
     "data": {
      "image/png": "[encoded data removed]",
      "text/plain": [
       "<matplotlib.figure.Figure at 0x7c40198>"
      ]
     },
     "execution_count": 23,
     "metadata": {},
     "output_type": "execute_result"
    }
   ],
   "source": [
    "rows = 5; columns = 5\n",
    "MyGrid=CAGrid((rows,columns),MyDtype)\n",
    "#Set all values to zero or 'dead' or False\n",
    "numpy.copyto(MyGrid['State'],numpy.zeros((rows,columns),dtype=numpy.dtype(bool)))\n",
    "#Set specific cells to 'alive' or True\n",
    "MyGrid['State'][0][1] = True\n",
    "MyGrid['State'][1][1] = True\n",
    "MyGrid['State'][1][2] = True\n",
    "MyGrid['State'][2][0] = True\n",
    "MyGrid['State'][2][2] = True\n",
    "\n",
    "MyGrid.FinishUpdate()\n",
    "MyAxes.matshow(MyGrid['State'])\n",
    "MyFigure"
   ]
  },
  {
   "cell_type": "code",
   "execution_count": 24,
   "metadata": {
    "collapsed": false,
    "scrolled": false
   },
   "outputs": [
    {
     "name": "stdout",
     "output_type": "stream",
     "text": [
      "The animation will be 20.0 seconds long.\n"
     ]
    }
   ],
   "source": [
    "AnimationFrames = 20  #total number of frames in animation.\n",
    "DelayBetweenFrames = 1000 #in msec (20 gives 50 fps) (33.3 gives 30 fps)\n",
    "AnimationTime = AnimationFrames * DelayBetweenFrames/1000\n",
    "print (\"The animation will be {:.1f} seconds long.\".format(AnimationTime))"
   ]
  },
  {
   "cell_type": "code",
   "execution_count": 25,
   "metadata": {
    "collapsed": false,
    "scrolled": false
   },
   "outputs": [],
   "source": [
    "MyAnimation = animation.FuncAnimation(MyFigure, af,\n",
    "                               frames=AnimationFrames, interval=DelayBetweenFrames, blit=False)\n",
    "MyAnimation.save('GOL_Glider_test.mp4',extra_args=['-vcodec', 'h264'])"
   ]
  },
  {
   "cell_type": "markdown",
   "metadata": {},
   "source": [
    "<video controls autoplay loop src=\"GOL_Glider_test.mp4\" />"
   ]
  },
  {
   "cell_type": "markdown",
   "metadata": {},
   "source": [
    "It does indeed return to its initial state."
   ]
  },
  {
   "cell_type": "markdown",
   "metadata": {},
   "source": [
    "### Large Grid Glider Test with Multiple Gliders\n",
    "Let us put several gliders onto the same grid and let them run.  When they collide they produce different patterns."
   ]
  },
  {
   "cell_type": "code",
   "execution_count": 27,
   "metadata": {
    "collapsed": false,
    "scrolled": false
   },
   "outputs": [
    {
     "data": {
      "image/png": "[encoded data removed]",
      "text/plain": [
       "<matplotlib.figure.Figure at 0x7c40198>"
      ]
     },
     "execution_count": 27,
     "metadata": {},
     "output_type": "execute_result"
    }
   ],
   "source": [
    "rows = 25; columns = 50\n",
    "MyGrid=CAGrid((rows,columns),MyDtype)\n",
    "numpy.copyto(MyGrid['State'],numpy.zeros((rows,columns),dtype=numpy.dtype(bool)))\n",
    "MyGrid['State'][5][10] = True\n",
    "MyGrid['State'][6][10] = True\n",
    "MyGrid['State'][6][11] = True\n",
    "MyGrid['State'][7][9]  = True\n",
    "MyGrid['State'][7][11] = True\n",
    "\n",
    "MyGrid['State'][12][20] = True\n",
    "MyGrid['State'][11][20] = True\n",
    "MyGrid['State'][11][21] = True\n",
    "MyGrid['State'][10][19] = True\n",
    "MyGrid['State'][10][21] = True\n",
    "\n",
    "MyGrid['State'][22][40] = True\n",
    "MyGrid['State'][21][40] = True\n",
    "MyGrid['State'][21][39] = True\n",
    "MyGrid['State'][20][41] = True\n",
    "MyGrid['State'][20][39] = True\n",
    "\n",
    "\n",
    "MyGrid.FinishUpdate()\n",
    "MyAxes.matshow(MyGrid['Value'])\n",
    "MyFigure"
   ]
  },
  {
   "cell_type": "code",
   "execution_count": 28,
   "metadata": {
    "collapsed": false,
    "scrolled": true
   },
   "outputs": [
    {
     "name": "stdout",
     "output_type": "stream",
     "text": [
      "The animation will be 30.0 seconds long.\n"
     ]
    }
   ],
   "source": [
    "AnimationFrames = 300  #total number of frames in animation.\n",
    "DelayBetweenFrames = 100 #in msec (20 gives 50 fps) (33.3 gives 30 fps)\n",
    "AnimationTime = AnimationFrames * DelayBetweenFrames/1000\n",
    "print (\"The animation will be {:.1f} seconds long.\".format(AnimationTime))"
   ]
  },
  {
   "cell_type": "code",
   "execution_count": 29,
   "metadata": {
    "collapsed": false,
    "scrolled": true
   },
   "outputs": [],
   "source": [
    "MyAnimation = animation.FuncAnimation(MyFigure, af,\n",
    "                               frames=AnimationFrames, interval=DelayBetweenFrames, blit=False)\n",
    "MyAnimation.save('GOL_Glider_M_test.mp4',extra_args=['-vcodec', 'h264'])"
   ]
  },
  {
   "cell_type": "markdown",
   "metadata": {
    "collapsed": false
   },
   "source": [
    "The multiple glider example is below.\n",
    "<video controls autoplay loop src=\"GOL_Glider_M_test.mp4\" />"
   ]
  },
  {
   "cell_type": "markdown",
   "metadata": {},
   "source": [
    "## Full Game of Life Simulation\n",
    "Just for fun, let us run a simulation on a large grid."
   ]
  },
  {
   "cell_type": "code",
   "execution_count": 37,
   "metadata": {
    "collapsed": false,
    "scrolled": false
   },
   "outputs": [
    {
     "data": {
      "text/plain": [
       "<matplotlib.image.AxesImage at 0x8adbfd0>"
      ]
     },
     "execution_count": 37,
     "metadata": {},
     "output_type": "execute_result"
    },
    {
     "data": {
      "image/png": "[encoded data removed]",
      "text/plain": [
       "<matplotlib.figure.Figure at 0x8adb4e0>"
      ]
     },
     "metadata": {},
     "output_type": "display_data"
    }
   ],
   "source": [
    "rows = 75\n",
    "columns = 115\n",
    "MyGrid=CAGrid((rows,columns),MyDtype)  #initilized with whatever random memory was at the location.\n",
    "setrandomstate(MyGrid,38)\n",
    "MyGrid.FinishUpdate()\n",
    "MyFigure, MyAxes = plt.subplots()\n",
    "MyAxes.matshow(MyGrid['State'])"
   ]
  },
  {
   "cell_type": "code",
   "execution_count": 38,
   "metadata": {
    "collapsed": false,
    "scrolled": true
   },
   "outputs": [
    {
     "name": "stdout",
     "output_type": "stream",
     "text": [
      "The animation will be 19.8 seconds long.\n"
     ]
    }
   ],
   "source": [
    "AnimationFrames = 800  #total number of frames in animation.\n",
    "DelayBetweenFrames = 33 #in msec (20 gives 50 fps) (33.3 gives 30 fps)\n",
    "AnimationTime = AnimationFrames * DelayBetweenFrames/1000\n",
    "print (\"The animation will be {:.1f} seconds long.\".format(AnimationTime))"
   ]
  },
  {
   "cell_type": "code",
   "execution_count": 39,
   "metadata": {
    "collapsed": false,
    "scrolled": false
   },
   "outputs": [],
   "source": [
    "MyAnimation = animation.FuncAnimation(MyFigure, af,\n",
    "                               frames=AnimationFrames, interval=DelayBetweenFrames, blit=False)\n",
    "MyAnimation.save('GOL_Large_Sim.mp4',extra_args=['-vcodec', 'h264'])"
   ]
  },
  {
   "cell_type": "markdown",
   "metadata": {},
   "source": [
    "<video controls autoplay loop src=\"GOL_Large_Sim.mp4\" />"
   ]
  },
  {
   "cell_type": "code",
   "execution_count": null,
   "metadata": {
    "collapsed": true
   },
   "outputs": [],
   "source": []
  }
 ],
 "metadata": {
  "anaconda-cloud": {},
  "kernelspec": {
   "display_name": "Python [conda root]",
   "language": "python",
   "name": "conda-root-py"
  },
  "language_info": {
   "codemirror_mode": {
    "name": "ipython",
    "version": 3
   },
   "file_extension": ".py",
   "mimetype": "text/x-python",
   "name": "python",
   "nbconvert_exporter": "python",
   "pygments_lexer": "ipython3",
   "version": "3.5.2"
  }
 },
 "nbformat": 4,
 "nbformat_minor": 0
}
