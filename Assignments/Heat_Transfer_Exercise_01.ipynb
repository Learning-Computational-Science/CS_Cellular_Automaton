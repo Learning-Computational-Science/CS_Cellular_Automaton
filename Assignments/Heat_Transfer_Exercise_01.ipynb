{
 "cells": [
  {
   "cell_type": "markdown",
   "metadata": {
    "collapsed": true
   },
   "source": [
    "# Module 10.2 Exercise 01 (From Dr. Holmes)\n",
    "The plate depicted below is a 0.1 cm thick aluminum plate.  The plate is initially at 20<sup>o</sup>C, and the left edge of the plate is also maintained at 20<sup>o</sup>C.  The top, bottom and right of the plate are adiabatic (or a reflection boundary condition).  At the center of a plate is an area of heat generation that generates 60W of heat energy. Answer the following questions using a cellular automaton simulation with $\\Delta x = \\Delta y = 0.5 cm.$\n",
    "\n",
    "1. Determine the rate of energy generation, $\\dot{e}_{node}^i,$ in the center of the plate.\n",
    "\n",
    "1. Determine the update rule for the plate center.\n",
    "\n",
    "1. Use a time step of $\\tau = 0.20.$  Determine the real time step, $\\Delta t,$ which corresponds to this $\\tau.$\n",
    "\n",
    "1. Determine the time required for the plate center to reach 100<sup>o</sup>C.\n",
    "\n",
    "1. Plot the temperature of the plate along the x axis for time at which the center temperature reaches $100^oC$ as well as three earlier times.  Include all the plots in a single figure and include labels indicating the real time for each of the plots.\n",
    "\n",
    "1. Plot the temperature over the plate surface at the time the plate center reaches 100<sup>o</sup>C. "
   ]
  },
  {
   "cell_type": "markdown",
   "metadata": {
    "collapsed": true
   },
   "source": [
    "![Plate Figure](./HT_Problem.jpg)"
   ]
  },
  {
   "cell_type": "markdown",
   "metadata": {},
   "source": [
    "## Plate Center Energy Generation Rate, $\\dot{e}_{node}^i,$"
   ]
  },
  {
   "cell_type": "markdown",
   "metadata": {},
   "source": [
    "## Update Rule for Plate Center"
   ]
  },
  {
   "cell_type": "markdown",
   "metadata": {},
   "source": [
    "## Real Time Step\n",
    "Use a time step of $\\tau = 0.20.$  Determine the real time step, $\\Delta t,$ which corresponds to this $\\tau.$"
   ]
  },
  {
   "cell_type": "markdown",
   "metadata": {},
   "source": [
    "## Time for Plate Center to Reach $100^oC$"
   ]
  },
  {
   "cell_type": "markdown",
   "metadata": {},
   "source": [
    "## Plate Temperature Along x Axis\n",
    "Plot the temperature of the plate along the x axis for time at which the center temperature reaches $100^oC$ as well as three earlier times.  Include all the plots in a single figure and include labels indicating the real time for each of the plots."
   ]
  },
  {
   "cell_type": "markdown",
   "metadata": {},
   "source": [
    "## Plate Surface Temperature\n",
    "Plot the temperature over the plate surface at the time the plate center reaches $100^oC.$"
   ]
  },
  {
   "cell_type": "code",
   "execution_count": null,
   "metadata": {
    "collapsed": true
   },
   "outputs": [],
   "source": []
  }
 ],
 "metadata": {
  "anaconda-cloud": {},
  "kernelspec": {
   "display_name": "Python [default]",
   "language": "python",
   "name": "python3"
  },
  "language_info": {
   "codemirror_mode": {
    "name": "ipython",
    "version": 3
   },
   "file_extension": ".py",
   "mimetype": "text/x-python",
   "name": "python",
   "nbconvert_exporter": "python",
   "pygments_lexer": "ipython3",
   "version": "3.5.2"
  }
 },
 "nbformat": 4,
 "nbformat_minor": 0
}
